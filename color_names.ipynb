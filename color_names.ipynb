{
 "cells": [
  {
   "cell_type": "markdown",
   "metadata": {},
   "source": [
    "### Color names\n",
    "\n",
    "Dataset found on Kaggle: [https://www.kaggle.com/datasets/avi1023/color-names](https://www.kaggle.com/datasets/avi1023/color-names)"
   ]
  },
  {
   "cell_type": "code",
   "execution_count": 50,
   "metadata": {},
   "outputs": [
    {
     "data": {
      "text/html": [
       "<div>\n",
       "<style scoped>\n",
       "    .dataframe tbody tr th:only-of-type {\n",
       "        vertical-align: middle;\n",
       "    }\n",
       "\n",
       "    .dataframe tbody tr th {\n",
       "        vertical-align: top;\n",
       "    }\n",
       "\n",
       "    .dataframe thead th {\n",
       "        text-align: right;\n",
       "    }\n",
       "</style>\n",
       "<table border=\"1\" class=\"dataframe\">\n",
       "  <thead>\n",
       "    <tr style=\"text-align: right;\">\n",
       "      <th></th>\n",
       "      <th>Name</th>\n",
       "      <th>Hex (24 bit)</th>\n",
       "      <th>Red (8 bit)</th>\n",
       "      <th>Green (8 bit)</th>\n",
       "      <th>Blue (8 bit)</th>\n",
       "      <th>Hue (degrees)</th>\n",
       "      <th>HSL.S (%)</th>\n",
       "      <th>HSL.L (%), HSV.S (%), HSV.V (%)</th>\n",
       "    </tr>\n",
       "  </thead>\n",
       "  <tbody>\n",
       "    <tr>\n",
       "      <th>671</th>\n",
       "      <td>Magenta (Pantone)</td>\n",
       "      <td>#D0417E</td>\n",
       "      <td>208</td>\n",
       "      <td>65</td>\n",
       "      <td>126</td>\n",
       "      <td>334.0</td>\n",
       "      <td>60.0</td>\n",
       "      <td>54.0</td>\n",
       "    </tr>\n",
       "    <tr>\n",
       "      <th>570</th>\n",
       "      <td>Jonquil</td>\n",
       "      <td>#F4CA16</td>\n",
       "      <td>244</td>\n",
       "      <td>202</td>\n",
       "      <td>22</td>\n",
       "      <td>49.0</td>\n",
       "      <td>91.0</td>\n",
       "      <td>52.0</td>\n",
       "    </tr>\n",
       "    <tr>\n",
       "      <th>290</th>\n",
       "      <td>Dark gray (X11)</td>\n",
       "      <td>#A9A9A9</td>\n",
       "      <td>169</td>\n",
       "      <td>169</td>\n",
       "      <td>169</td>\n",
       "      <td>0.0</td>\n",
       "      <td>0.0</td>\n",
       "      <td>66.0</td>\n",
       "    </tr>\n",
       "    <tr>\n",
       "      <th>1067</th>\n",
       "      <td>Sepia</td>\n",
       "      <td>#704214</td>\n",
       "      <td>112</td>\n",
       "      <td>66</td>\n",
       "      <td>20</td>\n",
       "      <td>30.0</td>\n",
       "      <td>70.0</td>\n",
       "      <td>26.0</td>\n",
       "    </tr>\n",
       "    <tr>\n",
       "      <th>932</th>\n",
       "      <td>Prussian blue</td>\n",
       "      <td>#003153</td>\n",
       "      <td>0</td>\n",
       "      <td>49</td>\n",
       "      <td>83</td>\n",
       "      <td>205.0</td>\n",
       "      <td>100.0</td>\n",
       "      <td>16.0</td>\n",
       "    </tr>\n",
       "  </tbody>\n",
       "</table>\n",
       "</div>"
      ],
      "text/plain": [
       "                   Name Hex (24 bit)  Red (8 bit)  Green (8 bit)  \\\n",
       "671   Magenta (Pantone)      #D0417E          208             65   \n",
       "570             Jonquil      #F4CA16          244            202   \n",
       "290     Dark gray (X11)      #A9A9A9          169            169   \n",
       "1067              Sepia      #704214          112             66   \n",
       "932       Prussian blue      #003153            0             49   \n",
       "\n",
       "      Blue (8 bit)  Hue (degrees)  HSL.S (%)  HSL.L (%), HSV.S (%), HSV.V (%)  \n",
       "671            126          334.0       60.0                             54.0  \n",
       "570             22           49.0       91.0                             52.0  \n",
       "290            169            0.0        0.0                             66.0  \n",
       "1067            20           30.0       70.0                             26.0  \n",
       "932             83          205.0      100.0                             16.0  "
      ]
     },
     "execution_count": 50,
     "metadata": {},
     "output_type": "execute_result"
    }
   ],
   "source": [
    "import pandas as pd\n",
    "\n",
    "df = pd.read_csv('color_names.csv')\n",
    "df.sample(5)"
   ]
  },
  {
   "cell_type": "code",
   "execution_count": 51,
   "metadata": {},
   "outputs": [
    {
     "name": "stdout",
     "output_type": "stream",
     "text": [
      "<class 'pandas.core.frame.DataFrame'>\n",
      "RangeIndex: 1298 entries, 0 to 1297\n",
      "Data columns (total 8 columns):\n",
      " #   Column                           Non-Null Count  Dtype  \n",
      "---  ------                           --------------  -----  \n",
      " 0   Name                             1298 non-null   object \n",
      " 1   Hex (24 bit)                     1298 non-null   object \n",
      " 2   Red (8 bit)                      1298 non-null   int64  \n",
      " 3   Green (8 bit)                    1298 non-null   int64  \n",
      " 4   Blue (8 bit)                     1298 non-null   int64  \n",
      " 5   Hue (degrees)                    1298 non-null   float64\n",
      " 6   HSL.S (%)                        1298 non-null   float64\n",
      " 7   HSL.L (%), HSV.S (%), HSV.V (%)  1298 non-null   float64\n",
      "dtypes: float64(3), int64(3), object(2)\n",
      "memory usage: 81.2+ KB\n"
     ]
    }
   ],
   "source": [
    "df.info()"
   ]
  },
  {
   "cell_type": "code",
   "execution_count": 52,
   "metadata": {},
   "outputs": [
    {
     "data": {
      "text/html": [
       "<div>\n",
       "<style scoped>\n",
       "    .dataframe tbody tr th:only-of-type {\n",
       "        vertical-align: middle;\n",
       "    }\n",
       "\n",
       "    .dataframe tbody tr th {\n",
       "        vertical-align: top;\n",
       "    }\n",
       "\n",
       "    .dataframe thead th {\n",
       "        text-align: right;\n",
       "    }\n",
       "</style>\n",
       "<table border=\"1\" class=\"dataframe\">\n",
       "  <thead>\n",
       "    <tr style=\"text-align: right;\">\n",
       "      <th></th>\n",
       "      <th>Name</th>\n",
       "      <th>Red (8 bit)</th>\n",
       "      <th>Green (8 bit)</th>\n",
       "      <th>Blue (8 bit)</th>\n",
       "    </tr>\n",
       "  </thead>\n",
       "  <tbody>\n",
       "    <tr>\n",
       "      <th>1064</th>\n",
       "      <td>Seal brown</td>\n",
       "      <td>50</td>\n",
       "      <td>20</td>\n",
       "      <td>20</td>\n",
       "    </tr>\n",
       "  </tbody>\n",
       "</table>\n",
       "</div>"
      ],
      "text/plain": [
       "            Name  Red (8 bit)  Green (8 bit)  Blue (8 bit)\n",
       "1064  Seal brown           50             20            20"
      ]
     },
     "execution_count": 52,
     "metadata": {},
     "output_type": "execute_result"
    }
   ],
   "source": [
    "# remove all cols except name and red, green, blue\n",
    "df = df[['Name', 'Red (8 bit)', 'Green (8 bit)', 'Blue (8 bit)']]\n",
    "df.sample(1)"
   ]
  },
  {
   "cell_type": "code",
   "execution_count": 53,
   "metadata": {},
   "outputs": [],
   "source": [
    "# Capitalize the first letter of each word in the name\n",
    "df['Name'] = df['Name'].str.title()"
   ]
  },
  {
   "cell_type": "code",
   "execution_count": 54,
   "metadata": {},
   "outputs": [],
   "source": [
    "# Check for duplicate columns\n",
    "duplicate_columns = df.columns[df.columns.duplicated()].unique()\n",
    "if len(duplicate_columns) > 0:\n",
    "    print(f\"Duplicate columns found: {duplicate_columns}\")"
   ]
  },
  {
   "cell_type": "code",
   "execution_count": null,
   "metadata": {},
   "outputs": [],
   "source": [
    "# convert the dataset to a map (key = name, value = [red, green, blue])\n",
    "color_dict = df.set_index('Name').transpose().to_dict('list')"
   ]
  },
  {
   "cell_type": "code",
   "execution_count": 56,
   "metadata": {},
   "outputs": [],
   "source": [
    "# convert the map to a json file\n",
    "import json\n",
    "\n",
    "with open('color_names.json', 'w') as f:\n",
    "    json.dump(color_dict, f, indent=4)\n",
    "    "
   ]
  }
 ],
 "metadata": {
  "kernelspec": {
   "display_name": "Python 3",
   "language": "python",
   "name": "python3"
  },
  "language_info": {
   "codemirror_mode": {
    "name": "ipython",
    "version": 3
   },
   "file_extension": ".py",
   "mimetype": "text/x-python",
   "name": "python",
   "nbconvert_exporter": "python",
   "pygments_lexer": "ipython3",
   "version": "3.11.1"
  }
 },
 "nbformat": 4,
 "nbformat_minor": 2
}
